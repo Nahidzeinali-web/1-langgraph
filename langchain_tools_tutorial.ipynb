{
 "cells": [
  {
   "cell_type": "markdown",
   "id": "b1cec1b3",
   "metadata": {},
   "source": [
    "# 🧠 LangChain Tools Tutorial (Wikipedia, YouTube, Tavily, Custom Tools)"
   ]
  },
  {
   "cell_type": "code",
   "execution_count": null,
   "id": "39f29656",
   "metadata": {},
   "outputs": [],
   "source": [
    "# 📦 Install necessary packages\n",
    "#!pip install langchain langchain-community wikipedia youtube-search-python\n"
   ]
  },
  {
   "cell_type": "markdown",
   "id": "845ff27d",
   "metadata": {},
   "source": [
    "## 📘 Wikipedia Tool\n",
    "Use LangChain's Wikipedia tool to get summaries from Wikipedia."
   ]
  },
  {
   "cell_type": "code",
   "execution_count": 1,
   "id": "33656ab9",
   "metadata": {},
   "outputs": [
    {
     "name": "stdout",
     "output_type": "stream",
     "text": [
      "Tool Name: wikipedia\n",
      "Description: A wrapper around Wikipedia. Useful for when you need to answer general questions about people, places, companies, facts, historical events, or other subjects. Input should be a search query.\n",
      "Arguments: {'query': {'description': 'query to look up on wikipedia', 'title': 'Query', 'type': 'string'}}\n",
      "Page: Elon Musk\n",
      "Summary: Elon Reeve Musk ( EE-lon; born June 28, 1971) is a businessman known for his leadership of Tesla, SpaceX, X (formerly Twitter) and the Department of Government Efficiency (DOGE). Musk has been considered the wealthiest person in the world since 2021; as of May 2025, Forbes estimates his net worth to be US$424.7 billion. \n",
      "Born to a wealthy family in Pretoria, South Africa, Musk emigrated in 1989 to Canada. He received bachelor's degrees from the University of Pennsylvania\n"
     ]
    }
   ],
   "source": [
    "from langchain_community.tools import WikipediaQueryRun\n",
    "from langchain_community.utilities import WikipediaAPIWrapper\n",
    "\n",
    "# Initialize the API wrapper with custom settings\n",
    "api_wrapper = WikipediaAPIWrapper(top_k_results=5, doc_content_chars_max=500)\n",
    "\n",
    "# Create the Wikipedia tool using the wrapper\n",
    "wiki_tool = WikipediaQueryRun(api_wrapper=api_wrapper)\n",
    "\n",
    "# Print tool metadata\n",
    "print(\"Tool Name:\", wiki_tool.name)\n",
    "print(\"Description:\", wiki_tool.description)\n",
    "print(\"Arguments:\", wiki_tool.args)\n",
    "\n",
    "# Query example\n",
    "result = wiki_tool.run({\"query\": \"Elon Musk\"})\n",
    "print(result)\n"
   ]
  },
  {
   "cell_type": "markdown",
   "id": "16b793d1",
   "metadata": {},
   "source": [
    "## 📺 YouTube Search Tool\n",
    "Search YouTube videos related to a person or topic."
   ]
  },
  {
   "cell_type": "code",
   "execution_count": 4,
   "id": "80410f61",
   "metadata": {},
   "outputs": [],
   "source": [
    "#! pip install youtube-search"
   ]
  },
  {
   "cell_type": "code",
   "execution_count": 5,
   "id": "d4e084d2",
   "metadata": {},
   "outputs": [
    {
     "name": "stdout",
     "output_type": "stream",
     "text": [
      "Tool Name: youtube_search\n",
      "Description: search for youtube videos associated with a person. the input to this tool should be a comma separated list, the first part contains a person name and the second a number that is the maximum number of video results to return aka num_results. the second part is optional\n",
      "['https://www.youtube.com/watch?v=JxgmHe2NyeY&pp=ygUKa3Jpc2ggbmFpaw%3D%3D', 'https://www.youtube.com/watch?v=p4pHsuEf4Ms&pp=ygUKa3Jpc2ggbmFpaw%3D%3D']\n"
     ]
    }
   ],
   "source": [
    "from langchain_community.tools import YouTubeSearchTool\n",
    "\n",
    "# Initialize the tool\n",
    "yt_tool = YouTubeSearchTool()\n",
    "\n",
    "# Tool metadata\n",
    "print(\"Tool Name:\", yt_tool.name)\n",
    "print(\"Description:\", yt_tool.description)\n",
    "\n",
    "# Run the tool with a sample query\n",
    "print(yt_tool.run(\"krish naik\"))\n"
   ]
  },
  {
   "cell_type": "markdown",
   "id": "4d4395a3",
   "metadata": {},
   "source": [
    "## 🌐 Tavily Search Tool\n",
    "Performs live search using Tavily's web search API."
   ]
  },
  {
   "cell_type": "code",
   "execution_count": 8,
   "id": "ad3fde14",
   "metadata": {},
   "outputs": [
    {
     "name": "stdout",
     "output_type": "stream",
     "text": [
      "Title: Bengaluru stampede case: What we know so far on RCB's ...\n",
      "URL: https://timesofindia.indiatimes.com/sports/cricket/ipl/top-stories/bengaluru-stampede-case-what-we-know-so-far-on-rcbs-celebrations-that-turned-catastrophic/articleshow/121670873.cms\n",
      "\n",
      "Title: LIVE: 11 Dead In Stampede As RCB Victory Celebrations ... - YouTube\n",
      "URL: https://www.youtube.com/watch?v=DCTt4n9CsL4\n",
      "\n"
     ]
    }
   ],
   "source": [
    "from langchain_community.tools.tavily_search import TavilySearchResults\n",
    "import os\n",
    "from dotenv import load_dotenv\n",
    "import os\n",
    "\n",
    "load_dotenv()  # 👈 Load the .env file\n",
    "\n",
    "# Ensure you have the API key set as environment variable\n",
    "TAVILY_API_KEY = os.getenv(\"TAVILY_API_KEY\")\n",
    "\n",
    "# Create the tool with the API key\n",
    "tavily_tool = TavilySearchResults(tavily_api_key=TAVILY_API_KEY)\n",
    "\n",
    "# Run the tool with a query\n",
    "results = tavily_tool.invoke({\"query\": \"what happened in RCB victory celebration?\"})\n",
    "\n",
    "# Show the top result\n",
    "for r in results[:2]:\n",
    "    print(f\"Title: {r['title']}\\nURL: {r['url']}\\n\")\n"
   ]
  },
  {
   "cell_type": "markdown",
   "id": "e8a98141",
   "metadata": {},
   "source": [
    "## 🧪 Custom Tool: Multiply Function\n",
    "Define your own LangChain tool using `@tool`."
   ]
  },
  {
   "cell_type": "code",
   "execution_count": 9,
   "id": "dd524faf",
   "metadata": {},
   "outputs": [
    {
     "name": "stdout",
     "output_type": "stream",
     "text": [
      "200\n",
      "Tool Name: multiply\n",
      "Description: this tool is for the multiplication\n",
      "Args: {'a': {'title': 'A', 'type': 'integer'}, 'b': {'title': 'B', 'type': 'integer'}}\n"
     ]
    }
   ],
   "source": [
    "from langchain.agents import tool\n",
    "\n",
    "@tool\n",
    "def multiply(a: int, b: int) -> int:\n",
    "    \"\"\"this tool is for the multiplication\"\"\"\n",
    "    return a * b\n",
    "\n",
    "# Run the custom tool\n",
    "print(multiply.invoke({\"a\": 10, \"b\": 20}))  # Output should be 200\n",
    "\n",
    "# Tool metadata\n",
    "print(\"Tool Name:\", multiply.name)\n",
    "print(\"Description:\", multiply.description)\n",
    "print(\"Args:\", multiply.args)\n"
   ]
  },
  {
   "cell_type": "markdown",
   "id": "a9f1e04d",
   "metadata": {},
   "source": [
    "## 🧮 Custom Tool: Word Length\n",
    "Another custom tool to get length of a word."
   ]
  },
  {
   "cell_type": "code",
   "execution_count": 10,
   "id": "4b3560e2",
   "metadata": {},
   "outputs": [
    {
     "name": "stdout",
     "output_type": "stream",
     "text": [
      "5\n",
      "Tool Name: get_word_length\n",
      "Description: this function is calculating the length of the word\n",
      "Args: {'word': {'title': 'Word', 'type': 'string'}}\n"
     ]
    }
   ],
   "source": [
    "@tool\n",
    "def get_word_length(word: str) -> int:\n",
    "    \"\"\"this function is calculating the length of the word\"\"\"\n",
    "    return len(word)\n",
    "\n",
    "print(get_word_length.invoke({\"word\": \"sunny\"}))  # Output: 5\n",
    "\n",
    "# Tool metadata\n",
    "print(\"Tool Name:\", get_word_length.name)\n",
    "print(\"Description:\", get_word_length.description)\n",
    "print(\"Args:\", get_word_length.args)\n"
   ]
  },
  {
   "cell_type": "markdown",
   "id": "0a5ae188",
   "metadata": {},
   "source": [
    "## 📬 Placeholder Tool: Gmail API Call\n",
    "A placeholder to show how you'd wrap other APIs."
   ]
  },
  {
   "cell_type": "code",
   "execution_count": 11,
   "id": "53796a08",
   "metadata": {},
   "outputs": [],
   "source": [
    "@tool\n",
    "def call_gamil_api(args):\n",
    "    \"\"\"this is my gmail API calling function\"\"\"\n",
    "    pass  # This would contain your actual Gmail API code\n"
   ]
  }
 ],
 "metadata": {
  "kernelspec": {
   "display_name": "Python 3",
   "language": "python",
   "name": "python3"
  },
  "language_info": {
   "codemirror_mode": {
    "name": "ipython",
    "version": 3
   },
   "file_extension": ".py",
   "mimetype": "text/x-python",
   "name": "python",
   "nbconvert_exporter": "python",
   "pygments_lexer": "ipython3",
   "version": "3.12.0"
  }
 },
 "nbformat": 4,
 "nbformat_minor": 5
}
